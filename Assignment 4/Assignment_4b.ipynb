{
 "cells": [
  {
   "cell_type": "markdown",
   "metadata": {},
   "source": [
    "# Assignment 4b Cognitive Modelling\n",
    "\n",
    "Dit is de tweede helft van de vierde opdracht voor Cognitive Modelling. Het totaal aantal punten dat je voor deze opdracht kan halen is __16 punten__.\n",
    "\n",
    "Bij elke vraag staat de hoeveelheid punten die je er voor kan krijgen. Geef antwoorden in blokken met code of met tekst. Gebruik voor antwoorden met tekst de \">\" voor blockquotes en geef bij elke vraag ook __kort uitleg__ als hier om wordt gevraagd.\n",
    "\n",
    "Sla het uiteindelijke notebook op met jullie studentnummers en achternamen in de filenaam: `studentnummer_achternaam_opdrachtnummer`."
   ]
  },
  {
   "cell_type": "markdown",
   "metadata": {},
   "source": [
    "<br>\n",
    "\n",
    "---\n",
    "\n",
    "## Prisoners Dilemma Competition 🚔\n",
    "\n",
    "Dit is de grote Prisoners Dilemma Game-competitie, moge de beste winnen!\n",
    "\n",
    "![](Images/pdg.png)\n",
    "\n",
    "### Introductie\n",
    "Deze opdracht begint straks met een aantal vragen over de competitie en verschillende strategiën. Daarna komt de echte competitie: je gaat je eigen strategie ontwikkelen. Jouw strategie wordt getest op twee verschillende manieren: allereerst hoe jouw strategie speelt tegen andere strategiën, daarna hoe goed jouw strategie met zichzelf kan samenwerken.\n",
    "\n",
    "### De competitie\n",
    "* __Deel 1: Ga de strijd aan!__ <br>\n",
    "Jouw ontwikkelde strategie zal 100 ronden tegen elke andere strategie in de competitie spelen. Deze andere strategieen zijn ontwikkeled door jouw medestudenten. De winnaar van een wedstrijd is degene met de meeste punten na 100 ronden.\n",
    "\n",
    "* __Deel 2: Samenwerken met jezelf__ <br>\n",
    "In het tweede deel van de competitie speel je 100 ronden tegen je eigen strategie en kijk je wat je totale score is. De winnaar is de strategie van de studenten die het beste tegen zichzelf speelt. \n",
    "\n",
    "* __Overall__ <br>\n",
    "De uiteindelijke winnaar is de strategie die de beste overall score heeft. Hiervoor rekenen we uit wat het gemiddeld aantal punten is voor een spel voor deel 1 en het aantal punten voor deel 2. \n",
    "\n",
    "<br>\n",
    "\n",
    "### Het dilemma\n",
    "We gebruiken het standaard prisoners dilemma, zoals besproken in het college:\n",
    "\n",
    "<img src=\"Images/pdg1.png\" alt=\"matrix\" style=\"width: 200px;\"/>\n",
    "\n",
    "De meeste code heb ik al voor je geschreven. Hier onder zie je `def game()` en `def testStrategy()`. In de eerste functie zijn de regels van het spel gedefinieerd, simpelweg wat de uitkomsten van de verschillende moves zijn. Met `testStrategy()` kan je jouw strategie testen tegen andere strategieën die in de array `strategies` staan. \n",
    "\n",
    "In deze lijst staan nu `alwaysCollude` en `titForTat`. Je kan de code testen door bijvoorbeeld `testStrategy(titForTat,10)` te runnen: een competitie voor 10 rondes tussen titForTat en de andere strategieën. "
   ]
  },
  {
   "cell_type": "code",
   "execution_count": null,
   "metadata": {},
   "outputs": [],
   "source": [
    "import titForTat, alwaysCollude \n",
    "strategies = [titForTat,alwaysCollude] \n",
    "scores = {}\n",
    "for s in strategies:\n",
    "    scores[s.name()] = 0\n",
    "\n",
    "def game(player1,player2,rounds):\n",
    "    global scores\n",
    "    p1Score = 0\n",
    "    p2Score = 0\n",
    "    p1Moves=[]\n",
    "    p2Moves=[]\n",
    "    \n",
    "    for i in range(rounds): \n",
    "        #get moves\n",
    "        p1Move = player1.play(i,p1Moves,p2Moves,rounds) # input should be not just last round but all plays..\n",
    "        p2Move = player2.play(i,p2Moves,p1Moves,rounds)\n",
    "\n",
    "        # both players cooperate    \n",
    "        if p1Move == 1 and p2Move==1:\n",
    "            p1Score +=2\n",
    "            p2Score +=2\n",
    "            scores[player1.name()] += 2\n",
    "            scores[player2.name()] += 2\n",
    "\n",
    "        # P1 cooperates, P2 defects\n",
    "        if p1Move == 1 and  p2Move == 0:\n",
    "            p2Score +=3\n",
    "            scores[player2.name()] += 3\n",
    "\n",
    "        # P2 cooperates, P1 defects\n",
    "        if p1Move == 0 and  p2Move == 1:\n",
    "            p1Score +=3\n",
    "            scores[player1.name()] += 3\n",
    "\n",
    "        # both players defect\n",
    "        if p1Move == 0 and  p2Move == 0:\n",
    "            p1Score +=1\n",
    "            p2Score +=1\n",
    "            scores[player1.name()] += 1\n",
    "            scores[player2.name()] += 1\n",
    "\n",
    "        p1Moves.append(p1Move)\n",
    "        p2Moves.append(p2Move)\n",
    "        #p1Move = player1.play(prevP2Move,i,rounds)\n",
    "        #p2Move = player2.play(prevP1Move,i,rounds)\n",
    "\n",
    "    if p1Score>p2Score:\n",
    "        print(player1.name(),'beat',player2.name(),p1Score,'-',p2Score)\n",
    "    elif p2Score>p1Score:    \n",
    "        print(player2.name(),'beat',player1.name(),p2Score,'-',p1Score)\n",
    "    else:\n",
    "        print('Draw :',player1.name(),p1Score,player2.name(),p2Score)\n",
    "\n",
    "\n",
    "def testStrategy(strategy,turns):\n",
    "    print('################## Testing', strategy.name(), '##################')\n",
    "    games = 0\n",
    "    opScore = 0\n",
    "\n",
    "    \n",
    "    for s in strategies:\n",
    "        if s != strategy:\n",
    "            game(strategy,s,turns)\n",
    "            games +=1\n",
    "            print('')\n",
    "    opScore = scores[strategy.name()]/games\n",
    "\n",
    "    print('Your average score against different opponents was',opScore)\n",
    "    print('----------------------------------------------------------------')\n",
    "    print('')\n",
    "    \n",
    "  \n",
    "    print('The cooperative score of',strategy.name(),'is:')\n",
    "\n",
    "    for s in strategies:\n",
    "        scores[s.name()] = 0\n",
    "    for i in range((len(strategies)-1)):\n",
    "        game(strategy,strategy,turns)\n",
    "\n",
    "    selfScore = scores[strategy.name()]/((len(strategies)-1)*2)\n",
    "    print('\\nYour average score against the same strategy opponents was',selfScore)\n",
    "    print('----------------------------------------------------------------')\n",
    "    \n",
    "    print('***** Your overall score is', opScore + selfScore, '*****\\n\\n')\n",
    "\n",
    "#Code based on work by Sanjin Dedic "
   ]
  },
  {
   "cell_type": "markdown",
   "metadata": {},
   "source": [
    "### Q1.a (3 punten)\n",
    "Wie wint de competitie tussen titForTat en alwaysCollude:\n",
    "* In deel 1 (tegen elkaar)?\n",
    "* In deel 2 (samenwerken)? \n",
    "* Overall?"
   ]
  },
  {
   "cell_type": "code",
   "execution_count": null,
   "metadata": {},
   "outputs": [],
   "source": [
    "# TO DO"
   ]
  },
  {
   "cell_type": "markdown",
   "metadata": {},
   "source": [
    "> *Antwoord*"
   ]
  },
  {
   "cell_type": "markdown",
   "metadata": {},
   "source": [
    "<br>\n",
    "\n",
    "---\n",
    "\n",
    "## Strategies\n",
    "De code van de strategieen kan je vinden in de `.py` files, bijvoorbeeld hier zie je de inhoud van `titForTat.py` :\n",
    "\n",
    "\n",
    "```python\n",
    "#1 = collude \n",
    "#0 = defect\n",
    "\n",
    "def play(roundNr,ownPrevMoves,otherPrevMoves,totalRounds):\n",
    "  if roundNr == 0:\n",
    "      return 0\n",
    "  if otherPrevMoves[roundNr-1]==1:\n",
    "      return 1\n",
    "  else:\n",
    "      return 0\n",
    "  return 0\n",
    "  \n",
    "def name():\n",
    "  return 'titForTat'\n",
    "```\n",
    "\n",
    "Ga de code na en beantwoord de volgende vragen over de strategie.\n",
    "\n",
    "<br>\n",
    "\n",
    "### Q2.a (1 punt)\n",
    "Wat is de eerste zet van deze strategie?"
   ]
  },
  {
   "cell_type": "markdown",
   "metadata": {},
   "source": [
    "> _Antwoord_"
   ]
  },
  {
   "cell_type": "markdown",
   "metadata": {},
   "source": [
    "<br>\n",
    "\n",
    "### Q2.b (2 punten)\n",
    "Wat doet deze strategie als de tegenstander in de vorige zet defect speelde? En wat als het collude/cooperate was?"
   ]
  },
  {
   "cell_type": "markdown",
   "metadata": {},
   "source": [
    "> *Antwoord*"
   ]
  },
  {
   "cell_type": "markdown",
   "metadata": {},
   "source": [
    "<br>\n",
    "\n",
    "---\n",
    "\n",
    "## Jouw strategie\n",
    "Hierboven heb je titForTat gezien, dit is een bekende strategie en winnaar van de vroegere competitie. Het gebruikt alleen een reeks zeer eenvoudige regels. Nu is het tijd om je eigen strategie te ontwikkelen. \n",
    "\n",
    "Jouw strategie kan zo simpel zijn als TfT met slechts simpele regels, maar je kunt het zo complex maken als je wilt. Slimmere, meer complexe algoritmen kunnen bijvoorbeeld leeralgoritmen zijn of een langer geheugen hebben dan slechts één beweging. Jouw strategie zou kunnen uitvinden wat de strategie van de ander is en er zo op inspelen. Om er een DeepQNetwerk van te maken gaat net te ver voor deze opdracht :)\n",
    "\n",
    "__Inverse Reinforcement Learning__\n",
    "\n",
    "Er is een opkomend veld dat heet Inverse Reinforcement Learning. Hier probeert men door reinforcement learning er achter te komen wat de goals/reward function van een andere agent zijn door zijn/haar gedrag te observeren (zie [hier](https://towardsdatascience.com/inverse-reinforcement-learning-6453b7cdc90d) voor een introductie). Dat is dus deels ook het construeren van een theorie of mind, als we snappen wat de ander probeert te bereiken kunnen we ook beter op dat gedrag anticiperen. \n",
    "\n",
    "Denk bij het ontwikkelen van je algoritme dat het niet alleen tegen de twee test strategieën goed moet werken (`alwaysCollude` en `titForTat`), maar ook tegen de strategieën waar andere studenten mee komen. Hier komt dus jouw theory of mind goed van pas. Wat denk je dat de meeste mensen zullen doen? Als jouw strategie kan anticiperen kan je ver komen. De minimum eis is dat jouw strategie `alwaysCollude` en `titForTat` verslaat in de overall competitie. \n",
    "\n",
    "In de eerste ronde van de competitie zal je alleen strijden tegen de strategieen uit je eigen werkgroep, daarna gaan de winnaars door naar de finale ronde.\n",
    "\n",
    "### Q3 (10 punten)\n",
    "\n",
    "- Schrijf je eigen strategie\n",
    "- Rapporteer hier hoe jouw strategy scoort tegen titForTat en AlwaysCollude (overall score)\n",
    "- Denk er aan: 1 punt verschil kan het verschil tussen winnen en verliezen uitmaken\n",
    "- LET OP! De uiteindelijke winnaar is de strategie in de bestel _overall_ score heeft. Hiervoor rekenen we uit wat het gemiddeld aantal punten is voor een spel voor deel 1 en het aantal punten voor deel 2.\n",
    "- Geef het een unieke naam, zo dat wij straks ze makkelijk in in lijst array kunnen plakken en stuur samen met de notebooks `zeer_unieke_naam.py` in\n",
    "\n",
    "Wij zullen dan uiteindelijke het leaderboard met de strategienamen op Canvas zetten. Jij kan daar dan jouw eigen score zien. Moge de beste winnen!"
   ]
  },
  {
   "cell_type": "code",
   "execution_count": null,
   "metadata": {},
   "outputs": [],
   "source": [
    "# TO DO"
   ]
  },
  {
   "cell_type": "markdown",
   "metadata": {},
   "source": [
    "> *Antwoord*"
   ]
  }
 ],
 "metadata": {
  "kernelspec": {
   "display_name": "Python 3 (ipykernel)",
   "language": "python",
   "name": "python3"
  },
  "language_info": {
   "codemirror_mode": {
    "name": "ipython",
    "version": 3
   },
   "file_extension": ".py",
   "mimetype": "text/x-python",
   "name": "python",
   "nbconvert_exporter": "python",
   "pygments_lexer": "ipython3",
   "version": "3.9.12"
  }
 },
 "nbformat": 4,
 "nbformat_minor": 2
}
