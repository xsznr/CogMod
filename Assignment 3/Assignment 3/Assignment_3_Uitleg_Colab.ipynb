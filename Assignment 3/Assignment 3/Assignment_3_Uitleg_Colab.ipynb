{
 "cells": [
  {
   "cell_type": "markdown",
   "metadata": {},
   "source": [
    "# Uitleg Assignment 3 Cognitive Modelling\n",
    "\n",
    "Dit is onderdeel van de derde opdracht voor Cognitive Modelling. Hieronder volgt uitleg over het openen van een notebook in Google Colab, voor assignment 3b en 3c. Je hoeft dit bestand niet in te leveren. \n",
    "\n",
    "Als je nog niet aan assignment 3a bent begonnen, kan je dat beter eerst doen!\n",
    "\n",
    "copy pasted from: https://medium.com/datadriveninvestor/setting-up-google-colab-for-deeplearning-experiments-53de394ae688\n"
   ]
  },
  {
   "cell_type": "markdown",
   "metadata": {},
   "source": [
    "<br>\n",
    "\n",
    "## Prerequisites\n",
    "For this assignment we will set up a free Colab account with google. For this you need to set up a google account if you do not already have one. Then connect the colab account to your google drive. In colab you can develop deep learning applications using popular libraries such as Keras, TensorFlow, PyTorch, and OpenCV. Most importantly, colab provides free GPU power!\n",
    "\n",
    "### Step 1: Create a Google Account\n",
    "\n",
    "Separating your deep learning experiments (data and scripts) from your everyday main account is a good idea, so we advice you to create a new account.\n",
    "\n",
    "For ease of use, and to run visualizations of your results offline, it is good to also setup google [backup-and-sync](https://www.google.com/drive/download/backup-and-sync/). Once set up, you can create a folder and manipulate its contents on your local machine. Any changes will be automatically synced with your GoogleDrive, which will also be accesible from colab. So your colab results will als be direclty synched to your local machine. \n",
    "\n",
    "### Step 2: Login to Colab\n",
    "Now go to [https://colab.research.google.com](https://colab.research.google.com) and mount your google drive to the colab environment. This first time you do this it will make a folder in your Drive called __Colab Notebooks__. Put all the files from the `Files for Colab` folder (in the .zip that you downloaded from canvas) in that folder __Colab Notebooks__ on your Drive. Now you're good to go (if this does not work just open a New notebook file, this will also ask for the necessary steps and built the folder).\n",
    "\n",
    "### Step 3: Open the Assignment_3b_SimpleNetwork.ipynb  notebook \n",
    "The easiest way not to open the `Assignment_3b_SimpleNetwork.ipynb` notebook is to go https://drive.google.com/ and right click on the file to open the context menu and then open it as a colab project.\n",
    "<img src=\"Images\\5.png\" style=\"max-width: 600px;\" alt=\"conect menu\"/>\n",
    "\n",
    "This should open the notebook in colab and we will take it from there. After you are done with `Assignment_3b_SimpleNetwork.ipynb` you can proceed to `Assignment_3c_Doom.ipynb`."
   ]
  }
 ],
 "metadata": {
  "kernelspec": {
   "display_name": "Python 3 (ipykernel)",
   "language": "python",
   "name": "python3"
  },
  "language_info": {
   "codemirror_mode": {
    "name": "ipython",
    "version": 3
   },
   "file_extension": ".py",
   "mimetype": "text/x-python",
   "name": "python",
   "nbconvert_exporter": "python",
   "pygments_lexer": "ipython3",
   "version": "3.9.7"
  }
 },
 "nbformat": 4,
 "nbformat_minor": 2
}
